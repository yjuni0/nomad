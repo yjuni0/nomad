{
 "cells": [
  {
   "cell_type": "code",
   "execution_count": 34,
   "metadata": {},
   "outputs": [
    {
     "data": {
      "text/plain": [
       "ChatPromptValue(messages=[SystemMessage(content='You are an emotional critic.So you are good at explaining poetry.'), HumanMessage(content='content=\"In the depths of the digital domain,\\\\nWhere code and logic intertwine,\\\\nThere slithers a language, elegant and refined,\\\\nA serpent of syntax, known as Python.\\\\n\\\\nIts scales are smooth, its movements precise,\\\\nGuiding programmers with effortless grace,\\\\nFrom data manipulation to web design,\\\\nPython weaves its magic in every place.\\\\n\\\\nWith libraries abundant and functions galore,\\\\nIt conquers tasks both big and small,\\\\nA versatile tool in the coder\\'s hand,\\\\nPython answers the programmer\\'s call.\\\\n\\\\nSo raise a toast to this noble snake,\\\\nWhose power and beauty never wane,\\\\nIn the world of technology, it reigns supreme,\\\\nPython, the poet of the digital domain.\"')])"
      ]
     },
     "execution_count": 34,
     "metadata": {},
     "output_type": "execute_result"
    }
   ],
   "source": [
    "from langchain.chat_models import ChatOpenAI\n",
    "from langchain.prompts import PromptTemplate, ChatPromptTemplate\n",
    "from langchain.callbacks import StreamingStdOutCallbackHandler\n",
    "\n",
    "chat = ChatOpenAI(temperature=0.1, streaming=True,callbacks=[],)\n",
    "\n",
    "poet_template = ChatPromptTemplate.from_messages([\n",
    "    (\"system\",\"You are a world-famous poet,You can write a poem with any words\"),\n",
    "    (\"human\", \"Write a poem about {programming_language}\"),\n",
    "])\n",
    "\n",
    "critic_template = ChatPromptTemplate.from_messages([\n",
    "  (\"system\",\"You are an emotional critic.So you are good at explaining poetry.\"),\n",
    "  (\"human\",\"{poem}\"),\n",
    "])\n",
    "\n",
    "poet_chain = poet_template | chat\n",
    "interpreter_chain = critic_template | chat\n",
    "\n",
    "final_chain = {\"poem\":poet_chain} | critic_template\n",
    "\n",
    "final_chain.invoke({\n",
    "    \"programming_language\": \"python\"\n",
    "})"
   ]
  }
 ],
 "metadata": {
  "kernelspec": {
   "display_name": "myenv",
   "language": "python",
   "name": "python3"
  },
  "language_info": {
   "codemirror_mode": {
    "name": "ipython",
    "version": 3
   },
   "file_extension": ".py",
   "mimetype": "text/x-python",
   "name": "python",
   "nbconvert_exporter": "python",
   "pygments_lexer": "ipython3",
   "version": "3.11.9"
  }
 },
 "nbformat": 4,
 "nbformat_minor": 2
}
