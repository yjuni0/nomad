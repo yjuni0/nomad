{
 "cells": [
  {
   "cell_type": "code",
   "execution_count": 5,
   "metadata": {},
   "outputs": [],
   "source": [
    "from langchain.prompts import ChatPromptTemplate, MessagesPlaceholder\n",
    "from langchain.chat_models import ChatOpenAI\n",
    "from langchain.prompts.few_shot import FewShotChatMessagePromptTemplate \n",
    "from langchain.schema.runnable import RunnablePassthrough\n",
    "from langchain.memory import ConversationSummaryBufferMemory\n",
    "#few-shot learning 접근방식 예제를 바탕으로 실행\n",
    "\n",
    "llm = ChatOpenAI(\n",
    "    temperature=0.1,\n",
    ")\n",
    "memory = ConversationSummaryBufferMemory(\n",
    "    llm=llm,\n",
    "    max_token_limit=150,\n",
    "    return_messages=True,\n",
    ")\n",
    "#예제를 정해줌\n",
    "examples = [\n",
    "    {\n",
    "    \"영화제목\":\"탑건\",\n",
    "    \"답변\":\"\"\"🛩️👨‍✈️🔥\"\"\",\n",
    "    },\n",
    "    {\n",
    "    \"영화제목\":\"대부\",\n",
    "    \"답변\":\"\"\"👨‍👨‍👦🔫🍝\"\"\",\n",
    "    },\n",
    "]\n",
    "\n",
    "#예제를 프롬프트를 이용해서 형식화 함\n",
    "example_prompt = ChatPromptTemplate.from_messages([\n",
    "    (\"human\",\"{영화제목}\"),\n",
    "    (\"ai\",\"{답변}\"),\n",
    "\n",
    "])\n",
    "\n",
    "example_prompt = FewShotChatMessagePromptTemplate(\n",
    "    example_prompt=example_prompt,#형식화한 프롬프트를 fewshotprompttemplate에 전달\n",
    "    examples=examples,#예제들을 가져와서 형식화시킴\n",
    ")\n",
    "final_prompt = ChatPromptTemplate.from_messages([\n",
    "    (\"system\",\"난 특이한 영화평론가 모든 영화를 이모티콘 3개로 표현함\"),\n",
    "    MessagesPlaceholder(variable_name=\"history\"),\n",
    "    example_prompt,\n",
    "    (\"human\",\"{영화제목}\")\n",
    "])\n",
    "def load_memory(_):\n",
    "    return memory.load_memory_variables({})[\"history\"]\n",
    "\n",
    "chain = RunnablePassthrough.assign(history=load_memory) | final_prompt | llm\n",
    "\n",
    "def invoke_chain(영화제목):\n",
    "    result = chain.invoke({\"영화제목\": 영화제목})\n",
    "    memory.save_context({\"input\": 영화제목}, {\"output\": result.content})\n",
    "    print(result)"
   ]
  },
  {
   "cell_type": "code",
   "execution_count": 6,
   "metadata": {},
   "outputs": [
    {
     "name": "stdout",
     "output_type": "stream",
     "text": [
      "content='🔥🦸\\u200d♂️💥'\n"
     ]
    }
   ],
   "source": [
    "invoke_chain(\"아이언맨\")"
   ]
  },
  {
   "cell_type": "code",
   "execution_count": 7,
   "metadata": {},
   "outputs": [
    {
     "name": "stdout",
     "output_type": "stream",
     "text": [
      "content='🔥🌊🌪️'\n"
     ]
    }
   ],
   "source": [
    "invoke_chain(\"엘리멘탈\")"
   ]
  },
  {
   "cell_type": "code",
   "execution_count": 8,
   "metadata": {},
   "outputs": [
    {
     "name": "stdout",
     "output_type": "stream",
     "text": [
      "content='아이언맨입니다.'\n"
     ]
    }
   ],
   "source": [
    "invoke_chain(\"내가 말한 첫번째 영화 제목이 뭐야?\")"
   ]
  }
 ],
 "metadata": {
  "kernelspec": {
   "display_name": "myenv",
   "language": "python",
   "name": "python3"
  },
  "language_info": {
   "codemirror_mode": {
    "name": "ipython",
    "version": 3
   },
   "file_extension": ".py",
   "mimetype": "text/x-python",
   "name": "python",
   "nbconvert_exporter": "python",
   "pygments_lexer": "ipython3",
   "version": "3.11.9"
  }
 },
 "nbformat": 4,
 "nbformat_minor": 2
}
