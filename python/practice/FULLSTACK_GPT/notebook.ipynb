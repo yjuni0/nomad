{
 "cells": [
  {
   "cell_type": "code",
   "execution_count": 5,
   "metadata": {},
   "outputs": [
    {
     "name": "stdout",
     "output_type": "stream",
     "text": [
      "영화제목: 아이언맨\n",
      "장르: 액션, SF\n",
      "감독: 존 파브로\n",
      "주연: 로버트 다우니 주니어, 기네스 팰트로, 제프 브리지스\n",
      "내용: 천재 발명가 토니 스타크가 아이언맨 수트를 개발하여 악당들과 싸우는 이야기를 다룬 마블 시네마틱 유니버스의 첫 번째 영화이다. 토니 스타크의 캐릭터와 아이언맨 수트의 등장으로 많은 팬을 확보하며 마블 시네마틱 유니버스의 성공을 이끌었다."
     ]
    },
    {
     "data": {
      "text/plain": [
       "AIMessageChunk(content='영화제목: 아이언맨\\n장르: 액션, SF\\n감독: 존 파브로\\n주연: 로버트 다우니 주니어, 기네스 팰트로, 제프 브리지스\\n내용: 천재 발명가 토니 스타크가 아이언맨 수트를 개발하여 악당들과 싸우는 이야기를 다룬 마블 시네마틱 유니버스의 첫 번째 영화이다. 토니 스타크의 캐릭터와 아이언맨 수트의 등장으로 많은 팬을 확보하며 마블 시네마틱 유니버스의 성공을 이끌었다.')"
      ]
     },
     "execution_count": 5,
     "metadata": {},
     "output_type": "execute_result"
    }
   ],
   "source": [
    "from langchain.chat_models import ChatOpenAI\n",
    "from langchain.prompts import ChatPromptTemplate\n",
    "from langchain.prompts.few_shot import FewShotChatMessagePromptTemplate\n",
    "from langchain.callbacks import StreamingStdOutCallbackHandler\n",
    "\n",
    "chat = ChatOpenAI(temperature=0.1, streaming=True,callbacks=[StreamingStdOutCallbackHandler()],)\n",
    "\n",
    "examples = [\n",
    "  {\n",
    "    \"movie\": \"기생충\",\n",
    "    \"answer\": \"\"\"\n",
    "    영화제목:기생충\n",
    "    장르:드라마,스릴러,코미디\n",
    "    감독:봉준호\n",
    "    주연:송강호,이선균,조여정,최우식,박소담\n",
    "    내용:부와 빈곤의 격차를 적나라하게 그린 영화,\n",
    "    \"\"\",\n",
    "  },\n",
    "  {\n",
    "    \"movie\": \"올드보이\",\n",
    "    \"answer\": \"\"\"\n",
    "    영화제목:올드보이\n",
    "    장르:드라마,미스터리,액션\n",
    "    감독:박찬욱\n",
    "    주연:최민식,오대수\n",
    "    내용:15년동안 감금된 후 갑자기 석방된 남자가 자신을 가두었던 이유와 복수를 찾는 과정,\n",
    "    \"\"\",\n",
    "  },\n",
    "  {\n",
    "    \"movie\": \"괴물\",\n",
    "    \"answer\": \"\"\"\n",
    "    영화제목:괴물\n",
    "    장르:공포,드라마,SF\n",
    "    감독:봉준호\n",
    "    주연:송강호,변희봉,박해일\n",
    "    내용:서울 한강에서 나타난 거대 괴물과 그 괴물에게 납치된 딸을 구하기 위해 가족들의 사투를 그린 영화,\n",
    "    \"\"\",\n",
    "  },\n",
    "]\n",
    "\n",
    "example_prompt = ChatPromptTemplate.from_messages([(\"human\",\"{movie}에대해 설명해줘\"),(\"ai\",\"{answer}\")])\n",
    "\n",
    "example_prompt = FewShotChatMessagePromptTemplate(\n",
    "  example_prompt=example_prompt,\n",
    "  examples=examples,\n",
    ")\n",
    "\n",
    "final_prompt = ChatPromptTemplate.from_messages([\n",
    "  (\"system\",\"너는 한국의 영화 평론가야\"),example_prompt,(\"human\",\"{movie}에대해 설명해줘\"),\n",
    "])\n",
    "\n",
    "chain = final_prompt | chat\n",
    "\n",
    "chain.invoke({\"movie\":\"아이언맨\"})\n"
   ]
  }
 ],
 "metadata": {
  "kernelspec": {
   "display_name": "myenv",
   "language": "python",
   "name": "python3"
  },
  "language_info": {
   "codemirror_mode": {
    "name": "ipython",
    "version": 3
   },
   "file_extension": ".py",
   "mimetype": "text/x-python",
   "name": "python",
   "nbconvert_exporter": "python",
   "pygments_lexer": "ipython3",
   "version": "3.11.9"
  }
 },
 "nbformat": 4,
 "nbformat_minor": 2
}
