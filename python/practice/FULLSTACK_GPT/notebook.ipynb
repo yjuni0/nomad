{
 "cells": [
  {
   "cell_type": "code",
   "execution_count": 32,
   "metadata": {},
   "outputs": [
    {
     "name": "stdout",
     "output_type": "stream",
     "text": [
      "AI:🦾💥🔥"
     ]
    },
    {
     "data": {
      "text/plain": [
       "AIMessageChunk(content='AI:🦾💥🔥')"
      ]
     },
     "execution_count": 32,
     "metadata": {},
     "output_type": "execute_result"
    }
   ],
   "source": [
    "from langchain.prompts import PromptTemplate, ChatPromptTemplate\n",
    "from langchain.chat_models import ChatOpenAI\n",
    "from langchain.callbacks import StreamingStdOutCallbackHandler\n",
    "from langchain.prompts.few_shot import FewShotPromptTemplate #few-shot learning 접근방식 예제를 바탕으로 실행\n",
    "\n",
    "chat = ChatOpenAI(temperature=0.1, streaming=True, callbacks=[StreamingStdOutCallbackHandler(),],)\n",
    "\n",
    "#예제를 정해줌\n",
    "examples = [\n",
    "    {\n",
    "      \"영화제목\":\"탑건\",\n",
    "      \"답변\":\"\"\"🛩️👨‍✈️🔥\"\"\",\n",
    "    },\n",
    "    {\n",
    "      \"영화제목\":\"대부\",\n",
    "      \"답변\":\"\"\"👨‍👨‍👦🔫🍝\"\"\",\n",
    "    },\n",
    "]\n",
    "\n",
    "#예제를 프롬프트를 이용해서 형식화 함\n",
    "example_prompt = PromptTemplate.from_template(\"Human:{영화제목}\\nAI:{답변}\")\n",
    "\n",
    "prompt = FewShotPromptTemplate(\n",
    "    example_prompt=example_prompt,#형식화한 프롬프트를 fewshotprompttemplate에 전달\n",
    "    examples=examples,#예제들을 가져와서 형식화시킴\n",
    "    suffix=\"Human:{영화제목}.\",#마지막에 추가 될 텍스트 나중에 .pdf나 .png같은 파일명, 날짜, 작업상태 등 다양하게 표현가능\n",
    "    input_variables=[\"영화제목\"]\n",
    ")\n",
    "chain = prompt | chat\n",
    "\n",
    "chain.invoke({\n",
    "    \"영화제목\":\"아이언맨\"\n",
    "})"
   ]
  }
 ],
 "metadata": {
  "kernelspec": {
   "display_name": "myenv",
   "language": "python",
   "name": "python3"
  },
  "language_info": {
   "codemirror_mode": {
    "name": "ipython",
    "version": 3
   },
   "file_extension": ".py",
   "mimetype": "text/x-python",
   "name": "python",
   "nbconvert_exporter": "python",
   "pygments_lexer": "ipython3",
   "version": "3.11.9"
  }
 },
 "nbformat": 4,
 "nbformat_minor": 2
}
